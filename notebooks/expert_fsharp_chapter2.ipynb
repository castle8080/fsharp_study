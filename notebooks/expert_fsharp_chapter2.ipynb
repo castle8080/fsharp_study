{
 "cells": [
  {
   "cell_type": "markdown",
   "metadata": {},
   "source": [
    "# Snippets While Reading Chapter 2"
   ]
  },
  {
   "cell_type": "markdown",
   "metadata": {},
   "source": [
    "## The First Program"
   ]
  },
  {
   "cell_type": "code",
   "execution_count": 7,
   "metadata": {},
   "outputs": [],
   "source": [
    "/// Split a string into words at spaces.\n",
    "let splitAtSpaces (text: string) =\n",
    "    text.Split ' '\n",
    "    |> Array.toList\n",
    "\n",
    "/// Analyze a string for duplicate words.\n",
    "let wordCount text =\n",
    "    let words = splitAtSpaces text\n",
    "    let numWords = words.Length\n",
    "    let distinctWords = List.distinct words\n",
    "    let numDups = numWords - distinctWords.Length\n",
    "    (numWords, numDups)\n",
    "\n",
    "/// Analyze a string for duplicate words and display the results.\n",
    "let showWordCount text =\n",
    "    let numWords, numDups = wordCount text\n",
    "    printfn \"--> %d words in the text\" numWords\n",
    "    printfn \"--> %d duplicate words\" numDups\n",
    "    (numWords, numDups)"
   ]
  },
  {
   "cell_type": "code",
   "execution_count": 8,
   "metadata": {},
   "outputs": [
    {
     "name": "stdout",
     "output_type": "stream",
     "text": [
      "--> 16 words in the text\n",
      "--> 0 duplicate words\n"
     ]
    }
   ],
   "source": [
    "showWordCount \"Wynona had a big brown beaver and she showed it off to all of her friends\""
   ]
  },
  {
   "cell_type": "code",
   "execution_count": null,
   "metadata": {},
   "outputs": [],
   "source": []
  }
 ],
 "metadata": {
  "kernelspec": {
   "display_name": ".NET (F#)",
   "language": "F#",
   "name": ".net-fsharp"
  },
  "language_info": {
   "file_extension": ".fs",
   "mimetype": "text/x-fsharp",
   "name": "C#",
   "pygments_lexer": "fsharp",
   "version": "4.5"
  }
 },
 "nbformat": 4,
 "nbformat_minor": 2
}
