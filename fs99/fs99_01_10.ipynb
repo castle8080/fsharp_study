{
 "cells": [
  {
   "cell_type": "markdown",
   "metadata": {},
   "source": [
    "# 99 Problems - F#\n",
    "\n",
    "Based on 99 problems originally from prolog, but using 99 OCaml problems for similarity to F#.\n",
    "\n",
    "https://ocaml.org/learn/tutorials/99problems.html"
   ]
  },
  {
   "cell_type": "markdown",
   "metadata": {},
   "source": [
    "## Working with lists 1 - 10"
   ]
  },
  {
   "cell_type": "markdown",
   "metadata": {},
   "source": [
    "## Problem 1\n",
    "\n",
    "Write a function last : 'a list -> 'a option that returns the last element of a list. (easy)\n",
    "\n",
    "```\n",
    "let rec my_last (xs: list<'a>) : 'a = IMPLEMENT_ME\n",
    "```\n",
    "\n"
   ]
  },
  {
   "cell_type": "code",
   "execution_count": 25,
   "metadata": {},
   "outputs": [],
   "source": [
    "let rec my_last (xs: list<'a>) : 'a =\n",
    "    if xs.Tail.IsEmpty\n",
    "    then xs.Head\n",
    "    else my_last xs.Tail"
   ]
  },
  {
   "cell_type": "code",
   "execution_count": 26,
   "metadata": {},
   "outputs": [
    {
     "data": {
      "text/html": [
       "<div class=\"dni-plaintext\">3</div>"
      ]
     },
     "execution_count": 26,
     "metadata": {},
     "output_type": "execute_result"
    }
   ],
   "source": [
    "my_last [0; 1; 3;]"
   ]
  },
  {
   "cell_type": "code",
   "execution_count": 27,
   "metadata": {},
   "outputs": [
    {
     "data": {
      "text/plain": [
       "karl"
      ]
     },
     "execution_count": 27,
     "metadata": {},
     "output_type": "execute_result"
    }
   ],
   "source": [
    "my_last [\"bailey\"; \"ollie\"; \"felix\"; \"karl\"]"
   ]
  },
  {
   "cell_type": "code",
   "execution_count": 28,
   "metadata": {},
   "outputs": [
    {
     "ename": "Unhandled exception",
     "evalue": "System.InvalidOperationException: The input list was empty.\r\n   at Microsoft.FSharp.Collections.FSharpList`1.get_Tail() in F:\\workspace\\_work\\1\\s\\src\\fsharp\\FSharp.Core\\prim-types.fs:line 3695\r\n   at FSI_0027.my_last[a](FSharpList`1 xs)\r\n   at <StartupCode$FSI_0030>.$FSI_0030.main@()",
     "output_type": "error",
     "traceback": [
      "System.InvalidOperationException: The input list was empty.\r\n   at Microsoft.FSharp.Collections.FSharpList`1.get_Tail() in F:\\workspace\\_work\\1\\s\\src\\fsharp\\FSharp.Core\\prim-types.fs:line 3695\r\n   at FSI_0027.my_last[a](FSharpList`1 xs)\r\n   at <StartupCode$FSI_0030>.$FSI_0030.main@()",
      "   at Microsoft.FSharp.Collections.FSharpList`1.get_Tail() in F:\\workspace\\_work\\1\\s\\src\\fsharp\\FSharp.Core\\prim-types.fs:line 3695",
      "   at FSI_0027.my_last[a](FSharpList`1 xs)",
      "   at <StartupCode$FSI_0030>.$FSI_0030.main@()"
     ]
    }
   ],
   "source": [
    "// How should we deal with an empty list?\n",
    "\n",
    "let l : list<int> = []\n",
    "\n",
    "my_last l"
   ]
  },
  {
   "cell_type": "markdown",
   "metadata": {},
   "source": [
    "## Problem 2\n",
    "\n",
    "Find the last but one (last and penultimate) elements of a list. (easy)\n",
    "\n",
    "```\n",
    "let rec my_last2 (xs: list<'a>) : 'a = IMPLEMENT_ME\n",
    "```"
   ]
  },
  {
   "cell_type": "code",
   "execution_count": 29,
   "metadata": {},
   "outputs": [
    {
     "name": "stderr",
     "output_type": "stream",
     "text": [
      "\n",
      "input.fsx (2,11)-(2,13) typecheck warning Incomplete pattern matches on this expression. For example, the value '[]' may indicate a case not covered by the pattern(s).\n",
      "\n"
     ]
    }
   ],
   "source": [
    "let rec my_last2 (xs: list<'a>) : 'a =\n",
    "    match xs with\n",
    "    | x2 :: x1 :: [] -> x2\n",
    "    | x2 :: remaining -> my_last2 remaining"
   ]
  },
  {
   "cell_type": "code",
   "execution_count": 30,
   "metadata": {},
   "outputs": [
    {
     "data": {
      "text/html": [
       "<div class=\"dni-plaintext\">2</div>"
      ]
     },
     "execution_count": 30,
     "metadata": {},
     "output_type": "execute_result"
    }
   ],
   "source": [
    "my_last2 [1; 2; 3]"
   ]
  },
  {
   "cell_type": "code",
   "execution_count": 31,
   "metadata": {},
   "outputs": [
    {
     "data": {
      "text/html": [
       "<div class=\"dni-plaintext\">1</div>"
      ]
     },
     "execution_count": 31,
     "metadata": {},
     "output_type": "execute_result"
    }
   ],
   "source": [
    "my_last2 [1; 2]"
   ]
  },
  {
   "cell_type": "markdown",
   "metadata": {},
   "source": [
    "## Problem 3\n",
    "\n",
    "Find the K'th element of a list. (easy)\n",
    "\n",
    "```\n",
    "let rec elem_at (n: int) (xs: list<'a>) : 'a = IMPLEMENT\n",
    "```"
   ]
  },
  {
   "cell_type": "code",
   "execution_count": 34,
   "metadata": {},
   "outputs": [],
   "source": [
    "let rec elem_at (n: int) (xs: list<'a>) : 'a =\n",
    "    if n = 0\n",
    "    then xs.Head\n",
    "    else elem_at (n - 1) xs.Tail"
   ]
  },
  {
   "cell_type": "code",
   "execution_count": 36,
   "metadata": {},
   "outputs": [
    {
     "name": "stdout",
     "output_type": "stream",
     "text": [
      "10\n",
      "9\n"
     ]
    }
   ],
   "source": [
    "let l = [10; 9; 8; 7; 6; 5; 4; 3; 2; 1; 0]\n",
    "\n",
    "printfn \"%d\" (elem_at 0 l)\n",
    "printfn \"%d\" (elem_at 1 l)"
   ]
  },
  {
   "cell_type": "code",
   "execution_count": null,
   "metadata": {},
   "outputs": [],
   "source": []
  }
 ],
 "metadata": {
  "kernelspec": {
   "display_name": ".NET (F#)",
   "language": "F#",
   "name": ".net-fsharp"
  },
  "language_info": {
   "file_extension": ".fs",
   "mimetype": "text/x-fsharp",
   "name": "C#",
   "pygments_lexer": "fsharp",
   "version": "4.5"
  }
 },
 "nbformat": 4,
 "nbformat_minor": 2
}
