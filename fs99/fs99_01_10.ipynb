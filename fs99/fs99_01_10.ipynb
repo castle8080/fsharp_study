{
 "cells": [
  {
   "cell_type": "markdown",
   "metadata": {},
   "source": [
    "# 99 Problems - F#\n",
    "\n",
    "Based on 99 problems originally from prolog, but using 99 OCaml problems for similarity to F#.\n",
    "\n",
    "https://ocaml.org/learn/tutorials/99problems.html"
   ]
  },
  {
   "cell_type": "markdown",
   "metadata": {},
   "source": [
    "## Working with lists 1 - 10"
   ]
  },
  {
   "cell_type": "markdown",
   "metadata": {},
   "source": [
    "## Problem 1\n",
    "\n",
    "Write a function last : 'a list -> 'a option that returns the last element of a list. (easy)\n",
    "\n",
    "```\n",
    "let rec my_last (xs: list<'a>) : 'a = IMPLEMENT_ME\n",
    "```\n",
    "\n"
   ]
  },
  {
   "cell_type": "code",
   "execution_count": 13,
   "metadata": {},
   "outputs": [],
   "source": [
    "let rec my_last (xs: list<'a>) : 'a =\n",
    "    if xs.Tail.IsEmpty\n",
    "    then xs.Head\n",
    "    else my_last xs.Tail"
   ]
  },
  {
   "cell_type": "code",
   "execution_count": 14,
   "metadata": {},
   "outputs": [
    {
     "data": {
      "text/html": [
       "<div class=\"dni-plaintext\">3</div>"
      ]
     },
     "execution_count": 14,
     "metadata": {},
     "output_type": "execute_result"
    }
   ],
   "source": [
    "my_last [0; 1; 3;]"
   ]
  },
  {
   "cell_type": "code",
   "execution_count": 24,
   "metadata": {},
   "outputs": [
    {
     "data": {
      "text/plain": [
       "karl"
      ]
     },
     "execution_count": 24,
     "metadata": {},
     "output_type": "execute_result"
    }
   ],
   "source": [
    "my_last [\"bailey\"; \"ollie\"; \"felix\"; \"karl\"]"
   ]
  },
  {
   "cell_type": "code",
   "execution_count": 23,
   "metadata": {},
   "outputs": [
    {
     "ename": "Unhandled exception",
     "evalue": "System.InvalidOperationException: The input list was empty.\r\n   at Microsoft.FSharp.Collections.FSharpList`1.get_Tail() in F:\\workspace\\_work\\1\\s\\src\\fsharp\\FSharp.Core\\prim-types.fs:line 3695\r\n   at FSI_0016.my_last[a](FSharpList`1 xs)\r\n   at <StartupCode$FSI_0025>.$FSI_0025.main@()",
     "output_type": "error",
     "traceback": [
      "System.InvalidOperationException: The input list was empty.\r\n   at Microsoft.FSharp.Collections.FSharpList`1.get_Tail() in F:\\workspace\\_work\\1\\s\\src\\fsharp\\FSharp.Core\\prim-types.fs:line 3695\r\n   at FSI_0016.my_last[a](FSharpList`1 xs)\r\n   at <StartupCode$FSI_0025>.$FSI_0025.main@()",
      "   at Microsoft.FSharp.Collections.FSharpList`1.get_Tail() in F:\\workspace\\_work\\1\\s\\src\\fsharp\\FSharp.Core\\prim-types.fs:line 3695",
      "   at FSI_0016.my_last[a](FSharpList`1 xs)",
      "   at <StartupCode$FSI_0025>.$FSI_0025.main@()"
     ]
    }
   ],
   "source": [
    "// How should we deal with an empty list?\n",
    "\n",
    "let l : list<int> = []\n",
    "\n",
    "my_last l"
   ]
  },
  {
   "cell_type": "markdown",
   "metadata": {},
   "source": []
  },
  {
   "cell_type": "markdown",
   "metadata": {},
   "source": [
    "## Problem 2\n",
    "\n",
    "Find the last but one (last and penultimate) elements of a list. (easy)\n",
    "\n",
    "```\n",
    "let rec my_last2 (xs: list<'a>) : 'a = IMPLEMENT_ME\n",
    "```"
   ]
  },
  {
   "cell_type": "code",
   "execution_count": null,
   "metadata": {},
   "outputs": [],
   "source": []
  },
  {
   "cell_type": "markdown",
   "metadata": {},
   "source": []
  }
 ],
 "metadata": {
  "kernelspec": {
   "display_name": ".NET (F#)",
   "language": "F#",
   "name": ".net-fsharp"
  },
  "language_info": {
   "file_extension": ".fs",
   "mimetype": "text/x-fsharp",
   "name": "C#",
   "pygments_lexer": "fsharp",
   "version": "4.5"
  }
 },
 "nbformat": 4,
 "nbformat_minor": 2
}
