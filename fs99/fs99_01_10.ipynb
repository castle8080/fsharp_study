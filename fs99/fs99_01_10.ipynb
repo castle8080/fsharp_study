{
 "cells": [
  {
   "cell_type": "markdown",
   "metadata": {},
   "source": [
    "# 99 Problems - F#\n",
    "\n",
    "Based on 99 problems originally from prolog, but using 99 OCaml problems for similarity to F#.\n",
    "\n",
    "https://ocaml.org/learn/tutorials/99problems.html"
   ]
  },
  {
   "cell_type": "markdown",
   "metadata": {},
   "source": [
    "## Working with lists 1 - 10"
   ]
  },
  {
   "cell_type": "markdown",
   "metadata": {},
   "source": [
    "## Problem 1\n",
    "\n",
    "Write a function last : 'a list -> 'a option that returns the last element of a list. (easy)\n",
    "\n",
    "```\n",
    "let rec my_last (xs: list<'a>) : 'a = IMPLEMENT_ME\n",
    "```\n",
    "\n"
   ]
  },
  {
   "cell_type": "code",
   "execution_count": 1,
   "metadata": {},
   "outputs": [
    {
     "data": {
      "text/html": [
       "\r\n",
       "<div>\r\n",
       "    <div id='dotnet-interactive-this-cell-12908.Microsoft.DotNet.Interactive.Http.HttpPort' style='display: none'>\r\n",
       "        The below script needs to be able to find the current output cell; this is an easy method to get it.\r\n",
       "    </div>\r\n",
       "    <script type='text/javascript'>\r\n",
       "async function probeAddresses(probingAddresses) {\r\n",
       "    function timeout(ms, promise) {\r\n",
       "        return new Promise(function (resolve, reject) {\r\n",
       "            setTimeout(function () {\r\n",
       "                reject(new Error('timeout'))\r\n",
       "            }, ms)\r\n",
       "            promise.then(resolve, reject)\r\n",
       "        })\r\n",
       "    }\r\n",
       "\r\n",
       "    if (Array.isArray(probingAddresses)) {\r\n",
       "        for (let i = 0; i < probingAddresses.length; i++) {\r\n",
       "\r\n",
       "            let rootUrl = probingAddresses[i];\r\n",
       "\r\n",
       "            if (!rootUrl.endsWith('/')) {\r\n",
       "                rootUrl = `${rootUrl}/`;\r\n",
       "            }\r\n",
       "\r\n",
       "            try {\r\n",
       "                let response = await timeout(1000, fetch(`${rootUrl}discovery`, {\r\n",
       "                    method: 'POST',\r\n",
       "                    cache: 'no-cache',\r\n",
       "                    mode: 'cors',\r\n",
       "                    timeout: 1000,\r\n",
       "                    headers: {\r\n",
       "                        'Content-Type': 'text/plain'\r\n",
       "                    },\r\n",
       "                    body: probingAddresses[i]\r\n",
       "                }));\r\n",
       "\r\n",
       "                if (response.status == 200) {\r\n",
       "                    return rootUrl;\r\n",
       "                }\r\n",
       "            }\r\n",
       "            catch (e) { }\r\n",
       "        }\r\n",
       "    }\r\n",
       "}\r\n",
       "\r\n",
       "function loadDotnetInteractiveApi() {\r\n",
       "    probeAddresses([\"http://172.25.80.1:1003/\", \"http://192.168.1.39:1003/\", \"http://172.25.96.1:1003/\", \"http://127.0.0.1:1003/\"])\r\n",
       "        .then((root) => {\r\n",
       "        // use probing to find host url and api resources\r\n",
       "        // load interactive helpers and language services\r\n",
       "        let dotnetInteractiveRequire = require.config({\r\n",
       "        context: '12908.Microsoft.DotNet.Interactive.Http.HttpPort',\r\n",
       "                paths:\r\n",
       "            {\r\n",
       "                'dotnet-interactive': `${root}resources`\r\n",
       "                }\r\n",
       "        }) || require;\r\n",
       "\r\n",
       "            window.dotnetInteractiveRequire = dotnetInteractiveRequire;\r\n",
       "\r\n",
       "            window.configureRequireFromExtension = function(extensionName, extensionCacheBuster) {\r\n",
       "                let paths = {};\r\n",
       "                paths[extensionName] = `${root}extensions/${extensionName}/resources/`;\r\n",
       "                \r\n",
       "                let internalRequire = require.config({\r\n",
       "                    context: extensionCacheBuster,\r\n",
       "                    paths: paths,\r\n",
       "                    urlArgs: `cacheBuster=${extensionCacheBuster}`\r\n",
       "                    }) || require;\r\n",
       "\r\n",
       "                return internalRequire\r\n",
       "            };\r\n",
       "        \r\n",
       "            dotnetInteractiveRequire([\r\n",
       "                    'dotnet-interactive/dotnet-interactive'\r\n",
       "                ],\r\n",
       "                function (dotnet) {\r\n",
       "                    dotnet.init(window);\r\n",
       "                },\r\n",
       "                function (error) {\r\n",
       "                    console.log(error);\r\n",
       "                }\r\n",
       "            );\r\n",
       "        })\r\n",
       "        .catch(error => {console.log(error);});\r\n",
       "    }\r\n",
       "\r\n",
       "// ensure `require` is available globally\r\n",
       "if ((typeof(require) !==  typeof(Function)) || (typeof(require.config) !== typeof(Function))) {\r\n",
       "    let require_script = document.createElement('script');\r\n",
       "    require_script.setAttribute('src', 'https://cdnjs.cloudflare.com/ajax/libs/require.js/2.3.6/require.min.js');\r\n",
       "    require_script.setAttribute('type', 'text/javascript');\r\n",
       "    \r\n",
       "    \r\n",
       "    require_script.onload = function() {\r\n",
       "        loadDotnetInteractiveApi();\r\n",
       "    };\r\n",
       "\r\n",
       "    document.getElementsByTagName('head')[0].appendChild(require_script);\r\n",
       "}\r\n",
       "else {\r\n",
       "    loadDotnetInteractiveApi();\r\n",
       "}\r\n",
       "\r\n",
       "    </script>\r\n",
       "</div>"
      ]
     },
     "metadata": {},
     "output_type": "display_data"
    }
   ],
   "source": [
    "let rec my_last (xs: list<'a>) : 'a =\n",
    "    if xs.Tail.IsEmpty\n",
    "    then xs.Head\n",
    "    else my_last xs.Tail"
   ]
  },
  {
   "cell_type": "code",
   "execution_count": 2,
   "metadata": {},
   "outputs": [
    {
     "data": {
      "text/html": [
       "<div class=\"dni-plaintext\">3</div>"
      ]
     },
     "execution_count": 2,
     "metadata": {},
     "output_type": "execute_result"
    }
   ],
   "source": [
    "my_last [0; 1; 3;]"
   ]
  },
  {
   "cell_type": "code",
   "execution_count": 3,
   "metadata": {},
   "outputs": [
    {
     "data": {
      "text/plain": [
       "karl"
      ]
     },
     "execution_count": 3,
     "metadata": {},
     "output_type": "execute_result"
    }
   ],
   "source": [
    "my_last [\"bailey\"; \"ollie\"; \"felix\"; \"karl\"]"
   ]
  },
  {
   "cell_type": "code",
   "execution_count": 4,
   "metadata": {},
   "outputs": [
    {
     "ename": "Unhandled exception",
     "evalue": "System.InvalidOperationException: The input list was empty.\r\n   at Microsoft.FSharp.Collections.FSharpList`1.get_Tail() in F:\\workspace\\_work\\1\\s\\src\\fsharp\\FSharp.Core\\prim-types.fs:line 3695\r\n   at FSI_0004.my_last[a](FSharpList`1 xs)\r\n   at <StartupCode$FSI_0007>.$FSI_0007.main@()",
     "output_type": "error",
     "traceback": [
      "System.InvalidOperationException: The input list was empty.\r\n   at Microsoft.FSharp.Collections.FSharpList`1.get_Tail() in F:\\workspace\\_work\\1\\s\\src\\fsharp\\FSharp.Core\\prim-types.fs:line 3695\r\n   at FSI_0004.my_last[a](FSharpList`1 xs)\r\n   at <StartupCode$FSI_0007>.$FSI_0007.main@()",
      "   at Microsoft.FSharp.Collections.FSharpList`1.get_Tail() in F:\\workspace\\_work\\1\\s\\src\\fsharp\\FSharp.Core\\prim-types.fs:line 3695",
      "   at FSI_0004.my_last[a](FSharpList`1 xs)",
      "   at <StartupCode$FSI_0007>.$FSI_0007.main@()"
     ]
    }
   ],
   "source": [
    "// How should we deal with an empty list?\n",
    "\n",
    "let l : list<int> = []\n",
    "\n",
    "my_last l"
   ]
  },
  {
   "cell_type": "markdown",
   "metadata": {},
   "source": [
    "## Problem 2\n",
    "\n",
    "Find the last but one (last and penultimate) elements of a list. (easy)\n",
    "\n",
    "```\n",
    "let rec my_last2 (xs: list<'a>) : 'a = IMPLEMENT_ME\n",
    "```"
   ]
  },
  {
   "cell_type": "code",
   "execution_count": 5,
   "metadata": {},
   "outputs": [
    {
     "name": "stderr",
     "output_type": "stream",
     "text": [
      "\n",
      "input.fsx (2,11)-(2,13) typecheck warning Incomplete pattern matches on this expression. For example, the value '[]' may indicate a case not covered by the pattern(s).\n",
      "\n"
     ]
    }
   ],
   "source": [
    "let rec my_last2 (xs: list<'a>) : 'a =\n",
    "    match xs with\n",
    "    | x2 :: x1 :: [] -> x2\n",
    "    | x2 :: remaining -> my_last2 remaining"
   ]
  },
  {
   "cell_type": "code",
   "execution_count": 6,
   "metadata": {},
   "outputs": [
    {
     "data": {
      "text/html": [
       "<div class=\"dni-plaintext\">2</div>"
      ]
     },
     "execution_count": 6,
     "metadata": {},
     "output_type": "execute_result"
    }
   ],
   "source": [
    "my_last2 [1; 2; 3]"
   ]
  },
  {
   "cell_type": "code",
   "execution_count": 7,
   "metadata": {},
   "outputs": [
    {
     "data": {
      "text/html": [
       "<div class=\"dni-plaintext\">1</div>"
      ]
     },
     "execution_count": 7,
     "metadata": {},
     "output_type": "execute_result"
    }
   ],
   "source": [
    "my_last2 [1; 2]"
   ]
  },
  {
   "cell_type": "markdown",
   "metadata": {},
   "source": [
    "## Problem 3\n",
    "\n",
    "Find the K'th element of a list. (easy)\n",
    "\n",
    "```\n",
    "let rec elem_at (n: int) (xs: list<'a>) : 'a = IMPLEMENT\n",
    "```"
   ]
  },
  {
   "cell_type": "code",
   "execution_count": 8,
   "metadata": {},
   "outputs": [],
   "source": [
    "let rec elem_at (n: int) (xs: list<'a>) : 'a =\n",
    "    if n = 0\n",
    "    then xs.Head\n",
    "    else elem_at (n - 1) xs.Tail"
   ]
  },
  {
   "cell_type": "code",
   "execution_count": 9,
   "metadata": {},
   "outputs": [
    {
     "name": "stdout",
     "output_type": "stream",
     "text": [
      "10\n",
      "9\n"
     ]
    }
   ],
   "source": [
    "let l = [10; 9; 8; 7; 6; 5; 4; 3; 2; 1; 0]\n",
    "\n",
    "printfn \"%d\" (elem_at 0 l)\n",
    "printfn \"%d\" (elem_at 1 l)"
   ]
  },
  {
   "cell_type": "markdown",
   "metadata": {},
   "source": [
    "## Problem 4\n",
    "\n",
    "Find the number of elements of a list. (easy)\n",
    "\n",
    "```\n",
    "let list_length xs = IMPLEMENT\n",
    "```"
   ]
  },
  {
   "cell_type": "code",
   "execution_count": 10,
   "metadata": {},
   "outputs": [],
   "source": [
    "let list_length xs =\n",
    "  let rec loop n _xs =\n",
    "    match _xs with\n",
    "    | [] -> n\n",
    "    | _ :: remaining -> loop (n + 1) remaining\n",
    "  loop 0 xs"
   ]
  },
  {
   "cell_type": "code",
   "execution_count": 11,
   "metadata": {},
   "outputs": [
    {
     "data": {
      "text/html": [
       "<div class=\"dni-plaintext\">0</div>"
      ]
     },
     "execution_count": 11,
     "metadata": {},
     "output_type": "execute_result"
    }
   ],
   "source": [
    "list_length []"
   ]
  },
  {
   "cell_type": "code",
   "execution_count": 12,
   "metadata": {},
   "outputs": [
    {
     "data": {
      "text/html": [
       "<div class=\"dni-plaintext\">3</div>"
      ]
     },
     "execution_count": 12,
     "metadata": {},
     "output_type": "execute_result"
    }
   ],
   "source": [
    "list_length [1;2;3]"
   ]
  },
  {
   "cell_type": "markdown",
   "metadata": {},
   "source": [
    "## Problem 5\n",
    "\n",
    " Reverse a list. (easy)\n",
    "\n",
    "```\n",
    "let list_reverse xs = IMPLEMENT\n",
    "```"
   ]
  },
  {
   "cell_type": "code",
   "execution_count": 42,
   "metadata": {},
   "outputs": [],
   "source": [
    "let list_reverse xs =\n",
    "  let rec loop rev_xs _xs =\n",
    "    match _xs with\n",
    "    | [] -> rev_xs\n",
    "    | x :: remaining -> loop (x :: rev_xs) remaining\n",
    "  loop [] xs"
   ]
  },
  {
   "cell_type": "code",
   "execution_count": 43,
   "metadata": {},
   "outputs": [
    {
     "data": {
      "text/html": [
       "<table><thead><tr><th><i>index</i></th><th>value</th></tr></thead><tbody><tr><td>0</td><td><div class=\"dni-plaintext\">3</div></td></tr><tr><td>1</td><td><div class=\"dni-plaintext\">2</div></td></tr><tr><td>2</td><td><div class=\"dni-plaintext\">1</div></td></tr></tbody></table>"
      ]
     },
     "execution_count": 43,
     "metadata": {},
     "output_type": "execute_result"
    }
   ],
   "source": [
    "list_reverse [1;2;3]"
   ]
  },
  {
   "cell_type": "markdown",
   "metadata": {},
   "source": [
    "## Problem 6\n",
    "\n",
    "Find out whether a list is a palindrome. (easy)\n",
    "\n",
    "```\n",
    "let is_palindrom (xs: list<'a>): bool = IMPLEMENT\n",
    "```"
   ]
  },
  {
   "cell_type": "code",
   "execution_count": 50,
   "metadata": {},
   "outputs": [],
   "source": [
    "let is_palindrome (xs: list<'a>): bool =\n",
    "    let rec is_same _xs1 _xs2 =\n",
    "        match (_xs1, _xs2) with\n",
    "        | ([], []) -> true\n",
    "        | (i1 :: remain1, i2 :: remain2) ->\n",
    "            if i1 = i2\n",
    "            then is_same remain1 remain2\n",
    "            else false\n",
    "        | _ -> false\n",
    "\n",
    "    is_same xs (list_reverse xs)"
   ]
  },
  {
   "cell_type": "code",
   "execution_count": 52,
   "metadata": {},
   "outputs": [
    {
     "data": {
      "text/html": [
       "<div class=\"dni-plaintext\">False</div>"
      ]
     },
     "execution_count": 52,
     "metadata": {},
     "output_type": "execute_result"
    }
   ],
   "source": [
    "is_palindrome [1;2;3]"
   ]
  },
  {
   "cell_type": "code",
   "execution_count": 53,
   "metadata": {},
   "outputs": [
    {
     "data": {
      "text/html": [
       "<div class=\"dni-plaintext\">True</div>"
      ]
     },
     "execution_count": 53,
     "metadata": {},
     "output_type": "execute_result"
    }
   ],
   "source": [
    "is_palindrome [1;2;1]"
   ]
  },
  {
   "cell_type": "code",
   "execution_count": 55,
   "metadata": {},
   "outputs": [
    {
     "data": {
      "text/html": [
       "<div class=\"dni-plaintext\">True</div>"
      ]
     },
     "execution_count": 55,
     "metadata": {},
     "output_type": "execute_result"
    }
   ],
   "source": [
    "is_palindrome []"
   ]
  },
  {
   "cell_type": "markdown",
   "metadata": {},
   "source": [
    "## Problem 7\n",
    "\n",
    "Flatten a nested list structure. (medium)\n",
    "\n",
    "```\n",
    "let hlist_flatten (hl: HierarchicalList<'a>) : list<'a> = IMPLEMENT\n",
    "```"
   ]
  },
  {
   "cell_type": "code",
   "execution_count": 63,
   "metadata": {},
   "outputs": [
    {
     "data": {
      "text/html": [
       "<table><thead><tr><th>Item</th></tr></thead><tbody><tr><td><div class=\"dni-plaintext\">[ Leaf 1, Leaf 2, HList [Leaf 3; HList [Leaf 5]; Leaf 4] ]</div></td></tr></tbody></table>"
      ]
     },
     "execution_count": 63,
     "metadata": {},
     "output_type": "execute_result"
    }
   ],
   "source": [
    "// Need to define a type that can create nested lists.\n",
    "\n",
    "type HierarchicalList<'a> =\n",
    "    | Leaf of 'a\n",
    "    | HList of list<HierarchicalList<'a>>\n",
    "\n",
    "let sample_nested_list = HList [Leaf 1; Leaf 2; HList [Leaf 3; HList [Leaf 5]; Leaf 4]]\n",
    "\n",
    "sample_nested_list"
   ]
  },
  {
   "cell_type": "code",
   "execution_count": 76,
   "metadata": {},
   "outputs": [],
   "source": [
    "// I implemented a concat function but could use @ operator instead.\n",
    "\n",
    "let rec list_concat xs1 xs2 =\n",
    "    match xs1 with\n",
    "    | [] -> xs2\n",
    "    | x :: xs1_rem -> x :: (list_concat xs1_rem xs2)\n",
    "\n",
    "let rec hlist_flatten (hl: HierarchicalList<'a>) : list<'a> =\n",
    "    match hl with\n",
    "    | Leaf x -> [x]\n",
    "    | HList xs ->\n",
    "        match xs with\n",
    "        | [] -> []\n",
    "        | sub_node :: remaining ->\n",
    "            list_concat (hlist_flatten sub_node) (hlist_flatten (HList remaining))\n",
    "            // could also be using built in concat operator\n",
    "            //(hlist_flatten sub_node) @ (hlist_flatten (HList remaining))"
   ]
  },
  {
   "cell_type": "code",
   "execution_count": 75,
   "metadata": {},
   "outputs": [
    {
     "data": {
      "text/html": [
       "<table><thead><tr><th><i>index</i></th><th>value</th></tr></thead><tbody><tr><td>0</td><td><div class=\"dni-plaintext\">1</div></td></tr><tr><td>1</td><td><div class=\"dni-plaintext\">2</div></td></tr><tr><td>2</td><td><div class=\"dni-plaintext\">3</div></td></tr><tr><td>3</td><td><div class=\"dni-plaintext\">5</div></td></tr><tr><td>4</td><td><div class=\"dni-plaintext\">4</div></td></tr></tbody></table>"
      ]
     },
     "execution_count": 75,
     "metadata": {},
     "output_type": "execute_result"
    }
   ],
   "source": [
    "hlist_flatten sample_nested_list"
   ]
  },
  {
   "cell_type": "markdown",
   "metadata": {},
   "source": [
    "## Problem 8\n",
    "\n",
    "Eliminate consecutive duplicates of list elements. (medium)"
   ]
  },
  {
   "cell_type": "code",
   "execution_count": 78,
   "metadata": {},
   "outputs": [],
   "source": [
    "let rec list_dedup xs =\n",
    "    match xs with\n",
    "    | a :: b :: _xs ->\n",
    "        if a = b\n",
    "        then list_dedup (b :: _xs)\n",
    "        else a :: (list_dedup (b :: _xs))\n",
    "    | _ -> xs"
   ]
  },
  {
   "cell_type": "code",
   "execution_count": 79,
   "metadata": {},
   "outputs": [
    {
     "data": {
      "text/html": [
       "<table><thead><tr><th><i>index</i></th><th>value</th></tr></thead><tbody><tr><td>0</td><td><div class=\"dni-plaintext\">1</div></td></tr><tr><td>1</td><td><div class=\"dni-plaintext\">7</div></td></tr><tr><td>2</td><td><div class=\"dni-plaintext\">8</div></td></tr><tr><td>3</td><td><div class=\"dni-plaintext\">9</div></td></tr></tbody></table>"
      ]
     },
     "execution_count": 79,
     "metadata": {},
     "output_type": "execute_result"
    }
   ],
   "source": [
    "list_dedup [1;1;7;8;8;8;8;9]"
   ]
  },
  {
   "cell_type": "code",
   "execution_count": 80,
   "metadata": {},
   "outputs": [
    {
     "data": {
      "text/html": [
       "<table><thead><tr><th><i>index</i></th><th>value</th></tr></thead><tbody><tr><td>0</td><td><div class=\"dni-plaintext\">1</div></td></tr></tbody></table>"
      ]
     },
     "execution_count": 80,
     "metadata": {},
     "output_type": "execute_result"
    }
   ],
   "source": [
    "list_dedup [1;1]"
   ]
  },
  {
   "cell_type": "code",
   "execution_count": 83,
   "metadata": {},
   "outputs": [
    {
     "data": {
      "text/html": [
       "<i>(empty)</i>"
      ]
     },
     "execution_count": 83,
     "metadata": {},
     "output_type": "execute_result"
    }
   ],
   "source": [
    "list_dedup ([]: list<int>)"
   ]
  },
  {
   "cell_type": "markdown",
   "metadata": {},
   "source": [
    "## Problem 9\n",
    "\n",
    "Pack consecutive duplicates of list elements into sublists. (medium)\n",
    "\n",
    "```\n",
    "let pack (xs: list<'a>) : list<list<'a>> = IMPLEMENT\n",
    "```"
   ]
  },
  {
   "cell_type": "code",
   "execution_count": 86,
   "metadata": {},
   "outputs": [
    {
     "name": "stderr",
     "output_type": "stream",
     "text": [
      "\n",
      "input.fsx (5,16)-(5,24) typecheck warning Incomplete pattern matches on this expression. For example, the value '[[]]' may indicate a case not covered by the pattern(s).\n",
      "\n"
     ]
    }
   ],
   "source": [
    "let rec pack (xs: list<'a>) : list<list<'a>> =\n",
    "    match xs with\n",
    "    | [] -> []\n",
    "    | x :: _xs ->\n",
    "        match (pack _xs) with\n",
    "        | [] -> [[x]]\n",
    "        | (next_x :: next_remaining) :: sub_remaining ->\n",
    "            if x = next_x\n",
    "            then (x :: next_x :: next_remaining) :: sub_remaining\n",
    "            else [x] :: (next_x :: next_remaining) :: sub_remaining\n",
    "        \n"
   ]
  },
  {
   "cell_type": "code",
   "execution_count": 87,
   "metadata": {},
   "outputs": [
    {
     "data": {
      "text/html": [
       "<table><thead><tr><th><i>index</i></th><th>value</th></tr></thead><tbody><tr><td>0</td><td><div class=\"dni-plaintext\">[ a, a, a, a ]</div></td></tr><tr><td>1</td><td><div class=\"dni-plaintext\">[ b ]</div></td></tr><tr><td>2</td><td><div class=\"dni-plaintext\">[ c, c ]</div></td></tr><tr><td>3</td><td><div class=\"dni-plaintext\">[ a, a ]</div></td></tr><tr><td>4</td><td><div class=\"dni-plaintext\">[ d, d ]</div></td></tr><tr><td>5</td><td><div class=\"dni-plaintext\">[ e, e, e, e ]</div></td></tr></tbody></table>"
      ]
     },
     "execution_count": 87,
     "metadata": {},
     "output_type": "execute_result"
    }
   ],
   "source": [
    "pack [\"a\"; \"a\"; \"a\"; \"a\"; \"b\"; \"c\"; \"c\"; \"a\"; \"a\"; \"d\"; \"d\"; \"e\"; \"e\"; \"e\"; \"e\"]"
   ]
  },
  {
   "cell_type": "code",
   "execution_count": 88,
   "metadata": {},
   "outputs": [
    {
     "data": {
      "text/html": [
       "<i>(empty)</i>"
      ]
     },
     "execution_count": 88,
     "metadata": {},
     "output_type": "execute_result"
    }
   ],
   "source": [
    "pack ([]: list<int>)"
   ]
  },
  {
   "cell_type": "code",
   "execution_count": 89,
   "metadata": {},
   "outputs": [
    {
     "data": {
      "text/html": [
       "<table><thead><tr><th><i>index</i></th><th>value</th></tr></thead><tbody><tr><td>0</td><td><div class=\"dni-plaintext\">[ 1 ]</div></td></tr></tbody></table>"
      ]
     },
     "execution_count": 89,
     "metadata": {},
     "output_type": "execute_result"
    }
   ],
   "source": [
    "pack [1]"
   ]
  },
  {
   "cell_type": "code",
   "execution_count": 90,
   "metadata": {},
   "outputs": [
    {
     "data": {
      "text/html": [
       "<table><thead><tr><th><i>index</i></th><th>value</th></tr></thead><tbody><tr><td>0</td><td><div class=\"dni-plaintext\">[ 1 ]</div></td></tr><tr><td>1</td><td><div class=\"dni-plaintext\">[ 2 ]</div></td></tr><tr><td>2</td><td><div class=\"dni-plaintext\">[ 1 ]</div></td></tr><tr><td>3</td><td><div class=\"dni-plaintext\">[ 7, 7 ]</div></td></tr></tbody></table>"
      ]
     },
     "execution_count": 90,
     "metadata": {},
     "output_type": "execute_result"
    }
   ],
   "source": [
    "pack [1;2;1;7;7]"
   ]
  },
  {
   "cell_type": "markdown",
   "metadata": {},
   "source": [
    "## Problem 10\n",
    "\n",
    "Run-length encoding of a list. (easy)\n",
    "\n",
    "If you need so, refresh your memory about [run-length encoding](http://en.wikipedia.org/wiki/Run-length_encoding).\n",
    "\n",
    "Example:\n",
    "\n",
    "```\n",
    "# encode [\"a\"; \"a\"; \"a\"; \"a\"; \"b\"; \"c\"; \"c\"; \"a\"; \"a\"; \"d\"; \"e\"; \"e\"; \"e\"; \"e\"];;\n",
    "- : (int * string) list =\n",
    "[(4, \"a\"); (1, \"b\"); (2, \"c\"); (2, \"a\"); (1, \"d\"); (4, \"e\")]\n",
    "```\n",
    "\n",
    "```\n",
    "let encode (xs: list<'a>) : list<(int, 'a)> = IMPLEMENT\n",
    "```"
   ]
  },
  {
   "cell_type": "code",
   "execution_count": 92,
   "metadata": {},
   "outputs": [
    {
     "data": {
      "text/html": [
       "<table><thead><tr><th><i>index</i></th><th>value</th></tr></thead><tbody><tr><td>0</td><td><div class=\"dni-plaintext\">a</div></td></tr><tr><td>1</td><td><div class=\"dni-plaintext\">a</div></td></tr><tr><td>2</td><td><div class=\"dni-plaintext\">a</div></td></tr><tr><td>3</td><td><div class=\"dni-plaintext\">a</div></td></tr><tr><td>4</td><td><div class=\"dni-plaintext\">b</div></td></tr><tr><td>5</td><td><div class=\"dni-plaintext\">c</div></td></tr><tr><td>6</td><td><div class=\"dni-plaintext\">c</div></td></tr><tr><td>7</td><td><div class=\"dni-plaintext\">a</div></td></tr><tr><td>8</td><td><div class=\"dni-plaintext\">a</div></td></tr><tr><td>9</td><td><div class=\"dni-plaintext\">d</div></td></tr><tr><td>10</td><td><div class=\"dni-plaintext\">e</div></td></tr><tr><td>11</td><td><div class=\"dni-plaintext\">e</div></td></tr><tr><td>12</td><td><div class=\"dni-plaintext\">e</div></td></tr><tr><td>13</td><td><div class=\"dni-plaintext\">e</div></td></tr></tbody></table>"
      ]
     },
     "execution_count": 92,
     "metadata": {},
     "output_type": "execute_result"
    }
   ],
   "source": [
    "let ex_list =  [\"a\"; \"a\"; \"a\"; \"a\"; \"b\"; \"c\"; \"c\"; \"a\"; \"a\"; \"d\"; \"e\"; \"e\"; \"e\"; \"e\"]\n",
    "ex_list"
   ]
  },
  {
   "cell_type": "code",
   "execution_count": 106,
   "metadata": {},
   "outputs": [],
   "source": [
    "let rec encode (xs: list<'a>) : list<(int * 'a)> =\n",
    "    match xs with\n",
    "    | [] -> []\n",
    "    | x :: _xs ->\n",
    "        let enc_xs = encode _xs\n",
    "        match enc_xs with\n",
    "        | [] -> [(1, x)]\n",
    "        | (next_count, next_x) :: remaining ->\n",
    "            if x = next_x\n",
    "            then (next_count + 1, next_x) :: remaining\n",
    "            else (1, x) :: enc_xs"
   ]
  },
  {
   "cell_type": "code",
   "execution_count": 104,
   "metadata": {},
   "outputs": [
    {
     "data": {
      "text/html": [
       "<table><thead><tr><th><i>index</i></th><th>Item1</th><th>Item2</th></tr></thead><tbody><tr><td>0</td><td><div class=\"dni-plaintext\">4</div></td><td><div class=\"dni-plaintext\">a</div></td></tr><tr><td>1</td><td><div class=\"dni-plaintext\">1</div></td><td><div class=\"dni-plaintext\">b</div></td></tr><tr><td>2</td><td><div class=\"dni-plaintext\">2</div></td><td><div class=\"dni-plaintext\">c</div></td></tr><tr><td>3</td><td><div class=\"dni-plaintext\">2</div></td><td><div class=\"dni-plaintext\">a</div></td></tr><tr><td>4</td><td><div class=\"dni-plaintext\">1</div></td><td><div class=\"dni-plaintext\">d</div></td></tr><tr><td>5</td><td><div class=\"dni-plaintext\">4</div></td><td><div class=\"dni-plaintext\">e</div></td></tr></tbody></table>"
      ]
     },
     "execution_count": 104,
     "metadata": {},
     "output_type": "execute_result"
    }
   ],
   "source": [
    "encode ex_list"
   ]
  }
 ],
 "metadata": {
  "kernelspec": {
   "display_name": ".NET (F#)",
   "language": "F#",
   "name": ".net-fsharp"
  },
  "language_info": {
   "file_extension": ".fs",
   "mimetype": "text/x-fsharp",
   "name": "C#",
   "pygments_lexer": "fsharp",
   "version": "4.5"
  }
 },
 "nbformat": 4,
 "nbformat_minor": 4
}
