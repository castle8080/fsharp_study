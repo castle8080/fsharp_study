{
 "cells": [
  {
   "cell_type": "markdown",
   "metadata": {},
   "source": [
    "# Code and Samples To Go With Chapter 2\n",
    "\n",
    "Chapter 2 is about core concepts of functional programming.\n",
    "* Evaluation of functional programs\n",
    "* Writing declarative code\n",
    "* Functional types and values"
   ]
  },
  {
   "cell_type": "markdown",
   "metadata": {},
   "source": [
    "## Page 31 and 32"
   ]
  },
  {
   "cell_type": "code",
   "execution_count": 3,
   "metadata": {},
   "outputs": [],
   "source": [
    "// Defining a function with a name\n",
    "\n",
    "let f x = x + 10"
   ]
  },
  {
   "cell_type": "code",
   "execution_count": 4,
   "metadata": {},
   "outputs": [
    {
     "data": {
      "text/html": [
       "<div class=\"dni-plaintext\">15</div>"
      ]
     },
     "execution_count": 4,
     "metadata": {},
     "output_type": "execute_result"
    }
   ],
   "source": [
    "f 5"
   ]
  },
  {
   "cell_type": "code",
   "execution_count": 7,
   "metadata": {},
   "outputs": [
    {
     "data": {
      "text/html": [
       "<div class=\"dni-plaintext\">15</div>"
      ]
     },
     "execution_count": 7,
     "metadata": {},
     "output_type": "execute_result"
    }
   ],
   "source": [
    "// In lambda calculus you may define functions without a name\n",
    "// This example defines an anonomous function can calls it immediately.\n",
    "\n",
    "(fun x -> x + 10) 5"
   ]
  },
  {
   "cell_type": "code",
   "execution_count": 12,
   "metadata": {},
   "outputs": [
    {
     "name": "stdout",
     "output_type": "stream",
     "text": [
      "20\n",
      "100\n"
     ]
    }
   ],
   "source": [
    "// The book describes passing a function to a function.\n",
    "\n",
    "let arg_twice = (fun op x -> op x x)\n",
    "\n",
    "printfn \"%d\" (arg_twice (fun a b -> a + b) 10)\n",
    "printfn \"%d\" (arg_twice (fun a b -> a * b) 10)"
   ]
  },
  {
   "cell_type": "markdown",
   "metadata": {},
   "source": [
    "Page 32 talks about a lambda expression with 2 arguments as a function which takes 1 argument and returns another lambda."
   ]
  },
  {
   "cell_type": "code",
   "execution_count": 13,
   "metadata": {},
   "outputs": [],
   "source": [
    "// This is a way to write the multiple lambdas using F#\n",
    "\n",
    "let f2arg = (fun a -> (fun b -> a + b))"
   ]
  },
  {
   "cell_type": "code",
   "execution_count": 14,
   "metadata": {},
   "outputs": [
    {
     "data": {
      "text/html": [
       "<div class=\"dni-plaintext\">13</div>"
      ]
     },
     "execution_count": 14,
     "metadata": {},
     "output_type": "execute_result"
    }
   ],
   "source": [
    "f2arg 7 6"
   ]
  },
  {
   "cell_type": "code",
   "execution_count": 15,
   "metadata": {},
   "outputs": [],
   "source": [
    "// However you don't have to do that\n",
    "// This is the same thing\n",
    "\n",
    "let f2arg = fun a b -> a + b"
   ]
  },
  {
   "cell_type": "code",
   "execution_count": 16,
   "metadata": {},
   "outputs": [
    {
     "data": {
      "text/html": [
       "<div class=\"dni-plaintext\">13</div>"
      ]
     },
     "execution_count": 16,
     "metadata": {},
     "output_type": "execute_result"
    }
   ],
   "source": [
    "f2arg 7 6"
   ]
  },
  {
   "cell_type": "code",
   "execution_count": 20,
   "metadata": {},
   "outputs": [
    {
     "data": {
      "text/html": [
       "<div class=\"dni-plaintext\">13</div>"
      ]
     },
     "execution_count": 20,
     "metadata": {},
     "output_type": "execute_result"
    }
   ],
   "source": [
    "// And you can call the 2 arg function with just 1\n",
    "// This \n",
    "\n",
    "let f1arg = f2arg 7\n",
    "f1arg 6"
   ]
  },
  {
   "cell_type": "markdown",
   "metadata": {},
   "source": [
    "## Section 2.2.2\n",
    "\n",
    "Immutable data structures"
   ]
  },
  {
   "cell_type": "code",
   "execution_count": 36,
   "metadata": {},
   "outputs": [
    {
     "data": {
      "text/html": [
       "<table><thead><tr><th>Item1</th><th>Item2</th></tr></thead><tbody><tr><td><div class=\"dni-plaintext\">[ 1 ]</div></td><td><div class=\"dni-plaintext\">[ 3, 4, 1 ]</div></td></tr></tbody></table>"
      ]
     },
     "execution_count": 36,
     "metadata": {},
     "output_type": "execute_result"
    }
   ],
   "source": [
    "let l1 = [1]\n",
    "let l2 = 3 :: 4 :: l1\n",
    "\n",
    "// The original list is still the same.\n",
    "\n",
    "(l1, l2)"
   ]
  },
  {
   "cell_type": "code",
   "execution_count": 41,
   "metadata": {},
   "outputs": [
    {
     "data": {
      "text/html": [
       "<table><thead><tr><th>Item1</th><th>Item2</th></tr></thead><tbody><tr><td><div class=\"dni-plaintext\">[ 4 ]</div></td><td><div class=\"dni-plaintext\">[ 4, 7, 9 ]</div></td></tr></tbody></table>"
      ]
     },
     "execution_count": 41,
     "metadata": {},
     "output_type": "execute_result"
    }
   ],
   "source": [
    "open System.Collections.Immutable\n",
    "\n",
    "let l1 = ImmutableList.Empty.Add(4)\n",
    "let l2 = l1.Add(7).Add(9)\n",
    "\n",
    "// The original list is still the same.\n",
    "\n",
    "(l1, l2)\n"
   ]
  },
  {
   "cell_type": "code",
   "execution_count": 43,
   "metadata": {},
   "outputs": [
    {
     "data": {
      "text/html": [
       "<div class=\"dni-plaintext\">55</div>"
      ]
     },
     "execution_count": 43,
     "metadata": {},
     "output_type": "execute_result"
    }
   ],
   "source": [
    "// 2.2.3 - basic recursion\n",
    "\n",
    "let rec sum_numbers from_n to_n =\n",
    "    if from_n > to_n\n",
    "    then 0\n",
    "    else from_n + sum_numbers (from_n + 1) to_n\n",
    "\n",
    "sum_numbers 1 10 "
   ]
  },
  {
   "cell_type": "code",
   "execution_count": 47,
   "metadata": {},
   "outputs": [
    {
     "name": "stdout",
     "output_type": "stream",
     "text": [
      "55\n",
      "3628800\n"
     ]
    }
   ],
   "source": [
    "// aggregate numbers\n",
    "\n",
    "let rec agg_numbers op init from_n to_n =\n",
    "    if from_n > to_n\n",
    "    then init\n",
    "    else op from_n (agg_numbers op init (from_n + 1) to_n)\n",
    "\n",
    "// We can pass an operator as a function\n",
    "\n",
    "printfn \"%d\" (agg_numbers (+) 0 1 10)\n",
    "printfn \"%d\" (agg_numbers (*) 1 1 10)"
   ]
  },
  {
   "cell_type": "markdown",
   "metadata": {},
   "source": [
    "## Section 2.3"
   ]
  },
  {
   "cell_type": "code",
   "execution_count": 48,
   "metadata": {},
   "outputs": [],
   "source": [
    "let numbers = [ 1 .. 10 ]\n",
    "let isOdd(n) = n % 2 = 1\n",
    "let square(n) = n * n"
   ]
  },
  {
   "cell_type": "code",
   "execution_count": 49,
   "metadata": {},
   "outputs": [
    {
     "data": {
      "text/html": [
       "<table><thead><tr><th><i>index</i></th><th>value</th></tr></thead><tbody><tr><td>0</td><td><div class=\"dni-plaintext\">1</div></td></tr><tr><td>1</td><td><div class=\"dni-plaintext\">3</div></td></tr><tr><td>2</td><td><div class=\"dni-plaintext\">5</div></td></tr><tr><td>3</td><td><div class=\"dni-plaintext\">7</div></td></tr><tr><td>4</td><td><div class=\"dni-plaintext\">9</div></td></tr></tbody></table>"
      ]
     },
     "execution_count": 49,
     "metadata": {},
     "output_type": "execute_result"
    }
   ],
   "source": [
    "List.filter isOdd numbers"
   ]
  },
  {
   "cell_type": "code",
   "execution_count": 50,
   "metadata": {},
   "outputs": [
    {
     "data": {
      "text/html": [
       "<table><thead><tr><th><i>index</i></th><th>value</th></tr></thead><tbody><tr><td>0</td><td><div class=\"dni-plaintext\">1</div></td></tr><tr><td>1</td><td><div class=\"dni-plaintext\">9</div></td></tr><tr><td>2</td><td><div class=\"dni-plaintext\">25</div></td></tr><tr><td>3</td><td><div class=\"dni-plaintext\">49</div></td></tr><tr><td>4</td><td><div class=\"dni-plaintext\">81</div></td></tr></tbody></table>"
      ]
     },
     "execution_count": 50,
     "metadata": {},
     "output_type": "execute_result"
    }
   ],
   "source": [
    "List.map square (List.filter isOdd numbers)"
   ]
  },
  {
   "cell_type": "code",
   "execution_count": 69,
   "metadata": {},
   "outputs": [
    {
     "data": {
      "text/html": [
       "<table><thead><tr><th><i>index</i></th><th>value</th></tr></thead><tbody><tr><td>0</td><td><div class=\"dni-plaintext\">1</div></td></tr><tr><td>1</td><td><div class=\"dni-plaintext\">9</div></td></tr><tr><td>2</td><td><div class=\"dni-plaintext\">25</div></td></tr><tr><td>3</td><td><div class=\"dni-plaintext\">49</div></td></tr><tr><td>4</td><td><div class=\"dni-plaintext\">81</div></td></tr></tbody></table>"
      ]
     },
     "execution_count": 69,
     "metadata": {},
     "output_type": "execute_result"
    }
   ],
   "source": [
    "// Same logical operations bu using a pipeline for readability.\n",
    "\n",
    "numbers\n",
    "|> List.filter isOdd\n",
    "|> List.map square"
   ]
  },
  {
   "cell_type": "code",
   "execution_count": 80,
   "metadata": {},
   "outputs": [],
   "source": [
    "// 2.4.2\n",
    "\n",
    "type Point = float * float\n",
    "\n",
    "type Shape =\n",
    "| Rectangle of Point * Point\n",
    "| Ellipse of Point * Point\n",
    "| Composed of Shape * Shape"
   ]
  },
  {
   "cell_type": "code",
   "execution_count": 81,
   "metadata": {},
   "outputs": [
    {
     "data": {
      "text/html": [
       "<table><thead><tr><th>Item1</th><th>Item2</th></tr></thead><tbody><tr><td><div class=\"dni-plaintext\">( 10, 10 )</div></td><td><div class=\"dni-plaintext\">( 20, 20 )</div></td></tr></tbody></table>"
      ]
     },
     "execution_count": 81,
     "metadata": {},
     "output_type": "execute_result"
    }
   ],
   "source": [
    "Rectangle ((10.0, 10.0), (20.0, 20.0))"
   ]
  },
  {
   "cell_type": "code",
   "execution_count": null,
   "metadata": {},
   "outputs": [],
   "source": []
  },
  {
   "cell_type": "code",
   "execution_count": 95,
   "metadata": {},
   "outputs": [
    {
     "data": {
      "text/plain": [
       "rectangle"
      ]
     },
     "execution_count": 95,
     "metadata": {},
     "output_type": "execute_result"
    }
   ],
   "source": [
    "// The book computes the area to show pattern matching.\n",
    "// Simplified version which gives the name\n",
    "\n",
    "let shape_name shape =\n",
    "    match shape with\n",
    "        | Rectangle(pfrom, pto) -> \"rectangle\"\n",
    "        | Ellipse(pfrom, pto) -> \"ellipse\"\n",
    "        | Composed(Rectangle (from1, to1), Rectangle (from2, to2)) -> \"double rect\"\n",
    "        | Composed(Ellipse (from1, to1), Ellipse (from2, to2)) -> \"double ellipse\"\n",
    "        | Composed(shape1, shape2) -> \"composed\"\n",
    "\n",
    "// Using the backward application operator\n",
    "shape_name <| Rectangle ((10.0, 10.0), (20.0, 20.0))\n",
    "\n",
    "\n",
    "// Discussion: How wold this look in OO?\n",
    "// You would probably have name or compute area as a method. "
   ]
  },
  {
   "cell_type": "code",
   "execution_count": 100,
   "metadata": {},
   "outputs": [
    {
     "name": "stdout",
     "output_type": "stream",
     "text": [
      "Speeding!\n"
     ]
    }
   ],
   "source": [
    "[<Measure>] type km    // kilometers\n",
    "[<Measure>] type mile  // miles\n",
    "[<Measure>] type h     // hours\n",
    "\n",
    "let maxSpeed = 50.0<km/h>\n",
    "let actualSpeed = 40.0<mile/h>\n",
    "\n",
    "let mphToKmph(speed:float<mile/h>) =\n",
    "    speed * 1.6<km/mile>\n",
    "\n",
    "if (mphToKmph(actualSpeed) > maxSpeed) then\n",
    "    printfn \"Speeding!\";;"
   ]
  },
  {
   "cell_type": "code",
   "execution_count": null,
   "metadata": {},
   "outputs": [],
   "source": []
  }
 ],
 "metadata": {
  "kernelspec": {
   "display_name": ".NET (F#)",
   "language": "F#",
   "name": ".net-fsharp"
  },
  "language_info": {
   "file_extension": ".fs",
   "mimetype": "text/x-fsharp",
   "name": "C#",
   "pygments_lexer": "fsharp",
   "version": "4.5"
  },
  "orig_nbformat": 4
 },
 "nbformat": 4,
 "nbformat_minor": 2
}
