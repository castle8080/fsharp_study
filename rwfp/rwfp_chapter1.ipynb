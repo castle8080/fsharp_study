{
 "cells": [
  {
   "cell_type": "markdown",
   "metadata": {
    "dotnet_interactive": {
     "language": "fsharp"
    }
   },
   "source": [
    "# Code In Chapter 1\n",
    "\n",
    "The first chapter does not explain the code too much. However, we can discuss what we are noticing in the sample code compared to other languages."
   ]
  },
  {
   "cell_type": "markdown",
   "metadata": {},
   "source": [
    "## Code Sample 1 - Listing 1.10"
   ]
  },
  {
   "cell_type": "code",
   "execution_count": 3,
   "metadata": {
    "dotnet_interactive": {
     "language": "fsharp"
    }
   },
   "outputs": [
    {
     "name": "stdout",
     "output_type": "stream",
     "text": [
      "Hello world!\n"
     ]
    }
   ],
   "source": [
    "let message = \"Hello world!\"\n",
    "\n",
    "printfn \"%s\" message"
   ]
  },
  {
   "cell_type": "markdown",
   "metadata": {},
   "source": [
    "## Code Sample 2 - Figure 1.3 "
   ]
  },
  {
   "cell_type": "code",
   "execution_count": 4,
   "metadata": {},
   "outputs": [
    {
     "name": "stdout",
     "output_type": "stream",
     "text": [
      "Hello Bob!\n",
      "Hello Joe!\n"
     ]
    }
   ],
   "source": [
    "// Experiment with string concatenation\n",
    "let sayHello name =\n",
    "    let str = \"Hello \" + name + \"!\"\n",
    "    printfn \"%s\" str\n",
    "\n",
    "sayHello \"Bob\"\n",
    "sayHello \"Joe\""
   ]
  },
  {
   "cell_type": "markdown",
   "metadata": {},
   "source": [
    "## Code Sample 3 - Based on Listing 1.12\n",
    "\n",
    "The 3rd examle in chapter 1 uses widows forms. I changed the code to run in jupyter but tried to leave a similar structure."
   ]
  },
  {
   "cell_type": "code",
   "execution_count": 5,
   "metadata": {},
   "outputs": [],
   "source": [
    "open Microsoft.DotNet.Interactive.Formatting\n",
    "\n",
    "type HelloJupyter() =\n",
    "    let mutable content: string = \"\"\n",
    "\n",
    "    member self.greeting = \"Hello\"\n",
    "\n",
    "    member self.SayHello name = \n",
    "        let style = \"font-weight: bold; font-size: 30pt;\"\n",
    "        content <- $\"<div style='{style}'> {self.greeting} {name}!</div>\"\n",
    "\n",
    "    member self.Render =\n",
    "        HTML(content)\n"
   ]
  },
  {
   "cell_type": "code",
   "execution_count": 6,
   "metadata": {},
   "outputs": [
    {
     "data": {
      "text/html": [
       "<div style='font-weight: bold; font-size: 30pt;'> Hello Bob!</div>"
      ]
     },
     "execution_count": 6,
     "metadata": {},
     "output_type": "execute_result"
    }
   ],
   "source": [
    "let hello = HelloJupyter()\n",
    "hello.SayHello(\"Bob\")\n",
    "\n",
    "hello.Render"
   ]
  },
  {
   "cell_type": "markdown",
   "metadata": {},
   "source": [
    "## Beyond Chapter 1\n",
    "\n",
    "Some sampe code we will use for discussion"
   ]
  },
  {
   "cell_type": "code",
   "execution_count": 7,
   "metadata": {
    "dotnet_interactive": {
     "language": "fsharp"
    }
   },
   "outputs": [],
   "source": [
    "// We can define functions with multiple parameters\n",
    "let my_mult a b = a * b\n",
    "let my_add a b = a + b"
   ]
  },
  {
   "cell_type": "code",
   "execution_count": 8,
   "metadata": {},
   "outputs": [
    {
     "data": {
      "text/html": [
       "<div class=\"dni-plaintext\">40</div>"
      ]
     },
     "execution_count": 8,
     "metadata": {},
     "output_type": "execute_result"
    }
   ],
   "source": [
    "my_mult 10 4"
   ]
  },
  {
   "cell_type": "code",
   "execution_count": 9,
   "metadata": {},
   "outputs": [
    {
     "data": {
      "text/html": [
       "<div class=\"dni-plaintext\">110</div>"
      ]
     },
     "execution_count": 9,
     "metadata": {},
     "output_type": "execute_result"
    }
   ],
   "source": [
    "// We can apply 1 parameter to a 2 parameter function and it gives us a 1 parameter function?\n",
    "// This is a peek into chapter 2 and lambda calculus\n",
    "let add_10 = my_add 10\n",
    "\n",
    "add_10 100"
   ]
  },
  {
   "cell_type": "code",
   "execution_count": 10,
   "metadata": {},
   "outputs": [
    {
     "name": "stdout",
     "output_type": "stream",
     "text": [
      "20\n",
      "24\n"
     ]
    }
   ],
   "source": [
    "// We can crate a fuction that takes a function too\n",
    "let apply_twice f p = f (f p)\n",
    "\n",
    "let add_5 x = x + 5\n",
    "let add_7 x = x + 7\n",
    "\n",
    "printfn \"%d\" (apply_twice add_5 10)\n",
    "printfn \"%d\" (apply_twice add_7 10)"
   ]
  },
  {
   "cell_type": "markdown",
   "metadata": {},
   "source": [
    "## Use Things From .Net Libraries\n",
    "\n",
    "We can use objects from .Net libraries. Notice the rendering of collections."
   ]
  },
  {
   "cell_type": "code",
   "execution_count": 11,
   "metadata": {},
   "outputs": [
    {
     "data": {
      "text/html": [
       "<table><thead><tr><th><i>index</i></th><th>value</th></tr></thead><tbody><tr><td>0</td><td><div class=\"dni-plaintext\">Hi</div></td></tr><tr><td>1</td><td><div class=\"dni-plaintext\">There</div></td></tr></tbody></table>"
      ]
     },
     "execution_count": 11,
     "metadata": {},
     "output_type": "execute_result"
    }
   ],
   "source": [
    "// Create a List and add to it.\n",
    "open System.Collections.Generic\n",
    "\n",
    "let l = List<string>()\n",
    "\n",
    "l.Add(\"Hi\")\n",
    "l.Add(\"There\")\n",
    "\n",
    "l"
   ]
  },
  {
   "cell_type": "code",
   "execution_count": 12,
   "metadata": {},
   "outputs": [
    {
     "data": {
      "text/html": [
       "<table><thead><tr><th><i>key</i></th><th>value</th></tr></thead><tbody><tr><td><div class=\"dni-plaintext\">Name</div></td><td><div class=\"dni-plaintext\">Bryan</div></td></tr><tr><td><div class=\"dni-plaintext\">Age</div></td><td><div class=\"dni-plaintext\">44</div></td></tr></tbody></table>"
      ]
     },
     "execution_count": 12,
     "metadata": {},
     "output_type": "execute_result"
    }
   ],
   "source": [
    "// Create a dictionary and add to it.\n",
    "let d = Dictionary<string, string>()\n",
    "\n",
    "d.Add(\"Name\", \"Bryan\")\n",
    "d.Add(\"Age\", \"44\")\n",
    "\n",
    "d"
   ]
  },
  {
   "cell_type": "code",
   "execution_count": null,
   "metadata": {},
   "outputs": [],
   "source": []
  }
 ],
 "metadata": {
  "kernelspec": {
   "display_name": ".NET (F#)",
   "language": "F#",
   "name": ".net-fsharp"
  },
  "language_info": {
   "file_extension": ".fs",
   "mimetype": "text/x-fsharp",
   "name": "C#",
   "pygments_lexer": "fsharp",
   "version": "4.5"
  }
 },
 "nbformat": 4,
 "nbformat_minor": 2
}
